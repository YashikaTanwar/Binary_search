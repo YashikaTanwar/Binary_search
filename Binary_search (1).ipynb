{
 "cells": [
  {
   "cell_type": "code",
   "execution_count": 1,
   "metadata": {},
   "outputs": [],
   "source": [
    "# Binary search--> works with ordered list\n",
    "# Follows divide and conquer aproach\n",
    "# we search if the value we are looking for exists in the list or not"
   ]
  },
  {
   "cell_type": "code",
   "execution_count": 2,
   "metadata": {},
   "outputs": [],
   "source": [
    "# Naive search--> iterating through every number in the list"
   ]
  },
  {
   "cell_type": "code",
   "execution_count": 27,
   "metadata": {},
   "outputs": [
    {
     "name": "stdout",
     "output_type": "stream",
     "text": [
      "3\n",
      "3\n"
     ]
    }
   ],
   "source": [
    "def naive_search(l,target):\n",
    "    # l=[1,3,5,7]\n",
    "    for i in range(len(l)):\n",
    "        if l[i]==target:\n",
    "            return i\n",
    "    return -1\n",
    "\n",
    "def binary_search(l,target,low=None, high=None):\n",
    "    \n",
    "    if low is None:\n",
    "        low=0\n",
    "    \n",
    "    if high is None:\n",
    "        high=len(l)-1\n",
    "    \n",
    "    if high < low:  # if the number does not exists then this condition will iterate\n",
    "        return -1\n",
    "        \n",
    "    #l=[1,3,5,10,12]\n",
    "    midpoint=(low+high) // 2\n",
    "    \n",
    "    if l[midpoint]==target:\n",
    "        return midpoint\n",
    "    \n",
    "    elif target<l[midpoint]:\n",
    "        return binary_search(l,target,low,midpoint-1)\n",
    "    \n",
    "    else:\n",
    "        # target > l[midpoint]\n",
    "        return binary_search(l,target,midpoint+1,high)\n",
    "    \n",
    "if __name__==\"__main__\":\n",
    "    l=[1,3,5,10,12]\n",
    "    target=10\n",
    "    print(naive_search(l,target))\n",
    "    print(binary_search(l,target))"
   ]
  },
  {
   "cell_type": "code",
   "execution_count": 32,
   "metadata": {},
   "outputs": [
    {
     "name": "stdout",
     "output_type": "stream",
     "text": [
      "Naive search time 0.00042359199523925783 seconds\n",
      "Binary search time 5.734705924987793e-06 seconds\n"
     ]
    }
   ],
   "source": [
    "import random\n",
    "import time\n",
    "def naive_search(l,target):\n",
    "    # l=[1,3,5,7]\n",
    "    for i in range(len(l)):\n",
    "        if l[i]==target:\n",
    "            return i\n",
    "    return -1\n",
    "\n",
    "def binary_search(l,target,low=None, high=None):\n",
    "    \n",
    "    if low is None:\n",
    "        low=0\n",
    "    \n",
    "    if high is None:\n",
    "        high=len(l)-1\n",
    "    \n",
    "    if high < low:  # if the number does not exists then this condition will iterate\n",
    "        return -1\n",
    "        \n",
    "    #l=[1,3,5,10,12]\n",
    "    midpoint=(low+high) // 2\n",
    "    \n",
    "    if l[midpoint]==target:\n",
    "        return midpoint\n",
    "    \n",
    "    elif target<l[midpoint]:\n",
    "        return binary_search(l,target,low,midpoint-1)\n",
    "    \n",
    "    else:\n",
    "        # target > l[midpoint]\n",
    "        return binary_search(l,target,midpoint+1,high)\n",
    "    \n",
    "if __name__==\"__main__\":\n",
    "    \n",
    "    l=[1,3,5,10,12]\n",
    "    length=10000\n",
    "    sorted_list=set()\n",
    "    while len(sorted_list)<length:\n",
    "    \n",
    "        sorted_list.add(random.randint(-3*length,3*length)) # now it will search the number from -30k to 30k\n",
    "    sorted_list=sorted(list(sorted_list))\n",
    "    \n",
    "    start=time.time()\n",
    "    # here we are making every value a target so it will iterate to the whole list\n",
    "    for target in sorted_list: \n",
    "        naive_search(sorted_list,target)\n",
    "    end=time.time()\n",
    "    print(\"Naive search time\",(end-start)/length,\"seconds\")\n",
    "    \n",
    "    start=time.time()\n",
    "    for target in sorted_list:\n",
    "        binary_search(sorted_list,target)\n",
    "    end=time.time()\n",
    "    print(\"Binary search time\",(end-start)/length,\"seconds\")"
   ]
  },
  {
   "cell_type": "code",
   "execution_count": 23,
   "metadata": {},
   "outputs": [
    {
     "name": "stdout",
     "output_type": "stream",
     "text": [
      "1 3 "
     ]
    }
   ],
   "source": [
    "a=(1,3)\n",
    "for i in a:\n",
    "    print(i,end=\" \")"
   ]
  },
  {
   "cell_type": "code",
   "execution_count": 21,
   "metadata": {},
   "outputs": [
    {
     "name": "stdout",
     "output_type": "stream",
     "text": [
      "4 5 6 7 8 9 10 "
     ]
    }
   ],
   "source": [
    "x=range(3,10)\n",
    "for i in x:\n",
    "    i+=1 # will add +1 to every digit\n",
    "    print(i,end=\" \")"
   ]
  },
  {
   "cell_type": "code",
   "execution_count": 20,
   "metadata": {},
   "outputs": [
    {
     "name": "stdout",
     "output_type": "stream",
     "text": [
      "0 1 2 3 4 5 6 7 8 9 "
     ]
    }
   ],
   "source": [
    "for i in range(10):\n",
    "    print(i,end=\" \")"
   ]
  }
 ],
 "metadata": {
  "kernelspec": {
   "display_name": "Python 3",
   "language": "python",
   "name": "python3"
  },
  "language_info": {
   "codemirror_mode": {
    "name": "ipython",
    "version": 3
   },
   "file_extension": ".py",
   "mimetype": "text/x-python",
   "name": "python",
   "nbconvert_exporter": "python",
   "pygments_lexer": "ipython3",
   "version": "3.8.5"
  }
 },
 "nbformat": 4,
 "nbformat_minor": 4
}
